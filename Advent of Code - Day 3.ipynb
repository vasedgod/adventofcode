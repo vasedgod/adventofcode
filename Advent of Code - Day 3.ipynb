{
 "cells": [
  {
   "cell_type": "markdown",
   "metadata": {},
   "source": [
    "# Advent of Code - Day 3\n",
    "## Part 1"
   ]
  },
  {
   "cell_type": "markdown",
   "metadata": {},
   "source": [
    "-- Day 3: Spiral Memory ---\n",
    "\n",
    "You come across an experimental new kind of memory stored on an infinite two-dimensional grid.\n",
    "\n",
    "Each square on the grid is allocated in a spiral pattern starting at a location marked 1 and then counting up while spiraling outward. For example, the first few squares are allocated like this:\n",
    "\n",
    "17  16  15  14  13\n",
    "18   5   4   3  12\n",
    "19   6   1   2  11\n",
    "20   7   8   9  10\n",
    "21  22  23---> ...\n",
    "While this is very space-efficient (no squares are skipped), requested data must be carried back to square 1 (the location of the only access port for this memory system) by programs that can only move up, down, left, or right. They always take the shortest path: the Manhattan Distance between the location of the data and square 1.\n",
    "\n",
    "For example:\n",
    "\n",
    "Data from square 1 is carried 0 steps, since it's at the access port.\n",
    "Data from square 12 is carried 3 steps, such as: down, left, left.\n",
    "Data from square 23 is carried only 2 steps: up twice.\n",
    "Data from square 1024 must be carried 31 steps.\n",
    "How many steps are required to carry the data from the square identified in your puzzle input all the way to the access port?"
   ]
  },
  {
   "cell_type": "code",
   "execution_count": 1,
   "metadata": {},
   "outputs": [],
   "source": [
    "import math"
   ]
  },
  {
   "cell_type": "code",
   "execution_count": 2,
   "metadata": {},
   "outputs": [],
   "source": [
    "def nth_odd(n):\n",
    "    return(n * 2 - 1)"
   ]
  },
  {
   "cell_type": "code",
   "execution_count": 3,
   "metadata": {},
   "outputs": [],
   "source": [
    "def get_middle_values(layer=1):\n",
    "    if layer == 1:\n",
    "        return([1])\n",
    "    else:\n",
    "        output = [1, 1, 1, 1]\n",
    "        for i in range(0,layer-1): \n",
    "            output[0] += nth_odd(4*i+1)\n",
    "            output[1] += nth_odd(4*i+2)\n",
    "            output[2] += nth_odd(4*i+3)\n",
    "            output[3] += nth_odd(4*i+4)\n",
    "        return(output)"
   ]
  },
  {
   "cell_type": "code",
   "execution_count": 4,
   "metadata": {},
   "outputs": [],
   "source": [
    "def which_layer(val=1):\n",
    "    if val == 1:\n",
    "        return(1)\n",
    "    elif val <= 9:\n",
    "        return(2)\n",
    "    else:\n",
    "        i = 1\n",
    "        while val not in range(min(get_middle_values(i))-(i-2), max(get_middle_values(i))+i):\n",
    "            i += 1\n",
    "        return(i)"
   ]
  },
  {
   "cell_type": "code",
   "execution_count": null,
   "metadata": {},
   "outputs": [],
   "source": [
    "def get_distance(val=1):\n",
    "    if val == 1:\n",
    "        return(0)\n",
    "    else:\n",
    "        this_layer = which_layer(val)\n",
    "        if val in get_middle_values(this_layer):\n",
    "            return(this_layer - 1)\n",
    "        dists = [int(math.fabs(x - val)) for x in get_middle_values(this_layer)]\n",
    "        min_dist = this_layer - 1 + min(dists)\n",
    "        return(min_dist)             "
   ]
  },
  {
   "cell_type": "code",
   "execution_count": null,
   "metadata": {},
   "outputs": [],
   "source": [
    "get_distance(289326)"
   ]
  },
  {
   "cell_type": "markdown",
   "metadata": {},
   "source": [
    "## Part 2"
   ]
  },
  {
   "cell_type": "markdown",
   "metadata": {},
   "source": [
    "--- Part Two ---\n",
    "\n",
    "As a stress test on the system, the programs here clear the grid and then store the value 1 in square 1. Then, in the same allocation order as shown above, they store the sum of the values in all adjacent squares, including diagonals.\n",
    "\n",
    "So, the first few squares' values are chosen as follows:\n",
    "\n",
    "Square 1 starts with the value 1.\n",
    "Square 2 has only one adjacent filled square (with value 1), so it also stores 1.\n",
    "Square 3 has both of the above squares as neighbors and stores the sum of their values, 2.\n",
    "Square 4 has all three of the aforementioned squares as neighbors and stores the sum of their values, 4.\n",
    "Square 5 only has the first and fourth squares as neighbors, so it gets the value 5.\n",
    "Once a square is written, its value does not change. Therefore, the first few squares would receive the following values:\n",
    "\n",
    "147  142  133  122   59\n",
    "304    5    4    2   57\n",
    "330   10    1    1   54\n",
    "351   11   23   25   26\n",
    "362  747  806--->   ...\n",
    "What is the first value written that is larger than your puzzle input?"
   ]
  },
  {
   "cell_type": "code",
   "execution_count": null,
   "metadata": {},
   "outputs": [],
   "source": [
    "def get_spiral_locs(X, Y):\n",
    "    x = y = 0\n",
    "    dx = 0\n",
    "    dy = -1\n",
    "    output = []\n",
    "    for i in range(max(X, Y)**2):\n",
    "        if (-X/2 < x <= X/2) and (-Y/2 < y <= Y/2):\n",
    "            output.append((x, y))\n",
    "            # DO STUFF...\n",
    "        if x == y or (x < 0 and x == -y) or (x > 0 and x == 1-y):\n",
    "            dx, dy = -dy, dx\n",
    "        x, y = x+dx, y+dy\n",
    "    return(output)"
   ]
  },
  {
   "cell_type": "code",
   "execution_count": null,
   "metadata": {},
   "outputs": [],
   "source": [
    "def get_all_neighbors(spiral, x, y):\n",
    "    xs = [x - 1, x, x + 1]\n",
    "    ys = [y + 1, y, y - 1]\n",
    "    \n",
    "    neighbors = [[0, 0, 0], [0, 0, 0], [0, 0, 0]]\n",
    "    \n",
    "    for x in range(3):\n",
    "        for y in range(3):\n",
    "            try:\n",
    "                neighbors[x][y] = spiral[xs[x]][ys[y]]\n",
    "            except:\n",
    "                continue\n",
    "    return(neighbors)"
   ]
  },
  {
   "cell_type": "code",
   "execution_count": null,
   "metadata": {},
   "outputs": [],
   "source": [
    "def first_bigger_val(inputval=1):\n",
    "    spiral = { 0 : { 0 : 1} }\n",
    "    curr_x, curr_y = (0, 0)\n",
    "    spiral_locs = get_spiral_locs(100,100)\n",
    "    spiralcount = 1\n",
    "    \n",
    "    while spiral[curr_x][curr_y] < inputval:\n",
    "        next_x, next_y = spiral_locs[spiralcount]\n",
    "        spiralcount += 1\n",
    "        next_val = sum(sum(row) for row in get_all_neighbors(spiral, next_x, next_y))\n",
    "        if next_val > inputval:\n",
    "            print(\"Bigger value than {} is {}\".format(inputval, next_val))\n",
    "            return(next_val)\n",
    "        \n",
    "        if next_x not in spiral.keys():\n",
    "            spiral[next_x] = {next_y : next_val}\n",
    "        else:\n",
    "            spiral[next_x][next_y] = next_val\n",
    "        \n",
    "        curr_x, curr_y  = next_x, next_y"
   ]
  },
  {
   "cell_type": "code",
   "execution_count": null,
   "metadata": {
    "scrolled": true
   },
   "outputs": [],
   "source": [
    "first_bigger_val(289326)"
   ]
  }
 ],
 "metadata": {
  "kernelspec": {
   "display_name": "Python 3",
   "language": "python",
   "name": "python3"
  },
  "language_info": {
   "codemirror_mode": {
    "name": "ipython",
    "version": 3
   },
   "file_extension": ".py",
   "mimetype": "text/x-python",
   "name": "python",
   "nbconvert_exporter": "python",
   "pygments_lexer": "ipython3",
   "version": "3.6.3"
  }
 },
 "nbformat": 4,
 "nbformat_minor": 2
}
