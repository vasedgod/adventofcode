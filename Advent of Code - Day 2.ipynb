{
 "cells": [
  {
   "cell_type": "markdown",
   "metadata": {},
   "source": [
    "# Advent of Code - Day 2\n",
    "## Part 1"
   ]
  },
  {
   "cell_type": "markdown",
   "metadata": {},
   "source": [
    "--- Day 2: Corruption Checksum ---\n",
    "\n",
    "As you walk through the door, a glowing humanoid shape yells in your direction. \"You there! Your state appears to be idle. Come help us repair the corruption in this spreadsheet - if we take another millisecond, we'll have to display an hourglass cursor!\"\n",
    "\n",
    "The spreadsheet consists of rows of apparently-random numbers. To make sure the recovery process is on the right track, they need you to calculate the spreadsheet's checksum. For each row, determine the difference between the largest value and the smallest value; the checksum is the sum of all of these differences.\n",
    "\n",
    "For example, given the following spreadsheet:\n",
    "\n",
    "5 1 9 5\n",
    "7 5 3\n",
    "2 4 6 8\n",
    "The first row's largest and smallest values are 9 and 1, and their difference is 8.\n",
    "The second row's largest and smallest values are 7 and 3, and their difference is 4.\n",
    "The third row's difference is 6.\n",
    "In this example, the spreadsheet's checksum would be 8 + 4 + 6 = 18.\n",
    "\n",
    "What is the checksum for the spreadsheet in your puzzle input?"
   ]
  },
  {
   "cell_type": "code",
   "execution_count": 8,
   "metadata": {},
   "outputs": [],
   "source": [
    "instring = \"\"\"1224\t926\t1380\t688\t845\t109\t118\t88\t1275\t1306\t91\t796\t102\t1361\t27\t995\n",
    "1928\t2097\t138\t1824\t198\t117\t1532\t2000\t1478\t539\t1982\t125\t1856\t139\t475\t1338\n",
    "848\t202\t1116\t791\t1114\t236\t183\t186\t150\t1016\t1258\t84\t952\t1202\t988\t866\n",
    "946\t155\t210\t980\t896\t875\t925\t613\t209\t746\t147\t170\t577\t942\t475\t850\n",
    "1500\t322\t43\t95\t74\t210\t1817\t1631\t1762\t128\t181\t716\t171\t1740\t145\t1123\n",
    "3074\t827\t117\t2509\t161\t206\t2739\t253\t2884\t248\t3307\t2760\t2239\t1676\t1137\t3055\n",
    "183\t85\t143\t197\t243\t72\t291\t279\t99\t189\t30\t101\t211\t209\t77\t198\n",
    "175\t149\t259\t372\t140\t250\t168\t142\t146\t284\t273\t74\t162\t112\t78\t29\n",
    "169\t578\t97\t589\t473\t317\t123\t102\t445\t217\t144\t398\t510\t464\t247\t109\n",
    "3291\t216\t185\t1214\t167\t495\t1859\t194\t1030\t3456\t2021\t1622\t3511\t222\t3534\t1580\n",
    "2066\t2418\t2324\t93\t1073\t82\t102\t538\t1552\t962\t91\t836\t1628\t2154\t2144\t1378\n",
    "149\t963\t1242\t849\t726\t1158\t164\t1134\t658\t161\t1148\t336\t826\t1303\t811\t178\n",
    "3421\t1404\t2360\t2643\t3186\t3352\t1112\t171\t168\t177\t146\t1945\t319\t185\t2927\t2289\n",
    "543\t462\t111\t459\t107\t353\t2006\t116\t2528\t56\t2436\t1539\t1770\t125\t2697\t2432\n",
    "1356\t208\t5013\t4231\t193\t169\t3152\t2543\t4430\t4070\t4031\t145\t4433\t4187\t4394\t1754\n",
    "5278\t113\t4427\t569\t5167\t175\t192\t3903\t155\t1051\t4121\t5140\t2328\t203\t5653\t3233\"\"\""
   ]
  },
  {
   "cell_type": "code",
   "execution_count": 9,
   "metadata": {},
   "outputs": [],
   "source": [
    "array = []\n",
    "for line in instring.split('\\n'):\n",
    "    array.append([int(el) for el in line.split('\\t')])"
   ]
  },
  {
   "cell_type": "code",
   "execution_count": 10,
   "metadata": {},
   "outputs": [],
   "source": [
    "checksum = 0"
   ]
  },
  {
   "cell_type": "code",
   "execution_count": 11,
   "metadata": {},
   "outputs": [],
   "source": [
    "for row in array:\n",
    "    checksum += max(row) - min(row)"
   ]
  },
  {
   "cell_type": "code",
   "execution_count": 12,
   "metadata": {
    "scrolled": true
   },
   "outputs": [
    {
     "data": {
      "text/plain": [
       "34581"
      ]
     },
     "execution_count": 12,
     "metadata": {},
     "output_type": "execute_result"
    }
   ],
   "source": [
    "checksum"
   ]
  },
  {
   "cell_type": "markdown",
   "metadata": {},
   "source": [
    "## Part 2"
   ]
  },
  {
   "cell_type": "markdown",
   "metadata": {},
   "source": [
    "--- Part Two ---\n",
    "\n",
    "\"Great work; looks like we're on the right track after all. Here's a star for your effort.\" However, the program seems a little worried. Can programs be worried?\n",
    "\n",
    "\"Based on what we're seeing, it looks like all the User wanted is some information about the evenly divisible values in the spreadsheet. Unfortunately, none of us are equipped for that kind of calculation - most of us specialize in bitwise operations.\"\n",
    "\n",
    "It sounds like the goal is to find the only two numbers in each row where one evenly divides the other - that is, where the result of the division operation is a whole number. They would like you to find those numbers on each line, divide them, and add up each line's result.\n",
    "\n",
    "For example, given the following spreadsheet:\n",
    "\n",
    "5 9 2 8\n",
    "9 4 7 3\n",
    "3 8 6 5\n",
    "In the first row, the only two numbers that evenly divide are 8 and 2; the result of this division is 4.\n",
    "In the second row, the two numbers are 9 and 3; the result is 3.\n",
    "In the third row, the result is 2.\n",
    "In this example, the sum of the results would be 4 + 3 + 2 = 9.\n",
    "\n",
    "What is the sum of each row's result in your puzzle input?\n",
    "\n"
   ]
  },
  {
   "cell_type": "code",
   "execution_count": 20,
   "metadata": {},
   "outputs": [],
   "source": [
    "checksum2 = 0"
   ]
  },
  {
   "cell_type": "code",
   "execution_count": 21,
   "metadata": {},
   "outputs": [],
   "source": [
    "def has_divisor(el, row):\n",
    "    new_row = list(row)\n",
    "    new_row.remove(el)\n",
    "    for new_el in new_row:\n",
    "        if el % new_el == 0:\n",
    "            return(el / new_el)\n",
    "    return(-1)"
   ]
  },
  {
   "cell_type": "code",
   "execution_count": 22,
   "metadata": {},
   "outputs": [],
   "source": [
    "for row in array:\n",
    "    for el in row:\n",
    "        if has_divisor(el, row) == -1:\n",
    "            continue\n",
    "        else:\n",
    "            checksum2 += has_divisor(el, row)\n",
    "            break"
   ]
  },
  {
   "cell_type": "code",
   "execution_count": 23,
   "metadata": {},
   "outputs": [
    {
     "data": {
      "text/plain": [
       "214.0"
      ]
     },
     "execution_count": 23,
     "metadata": {},
     "output_type": "execute_result"
    }
   ],
   "source": [
    "checksum2"
   ]
  }
 ],
 "metadata": {
  "kernelspec": {
   "display_name": "Python 3",
   "language": "python",
   "name": "python3"
  },
  "language_info": {
   "codemirror_mode": {
    "name": "ipython",
    "version": 3
   },
   "file_extension": ".py",
   "mimetype": "text/x-python",
   "name": "python",
   "nbconvert_exporter": "python",
   "pygments_lexer": "ipython3",
   "version": "3.6.3"
  }
 },
 "nbformat": 4,
 "nbformat_minor": 2
}
