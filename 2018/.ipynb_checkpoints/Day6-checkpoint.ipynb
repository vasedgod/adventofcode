{
 "cells": [
  {
   "cell_type": "code",
   "execution_count": 8,
   "metadata": {
    "colab": {},
    "colab_type": "code",
    "id": "JBkgUNhDmNCI"
   },
   "outputs": [],
   "source": [
    "#!/usr/bin/env python\n",
    "import sys\n",
    "import time\n",
    "from itertools import cycle\n",
    "\n",
    "input_file = \"/Users/xandermadsen/Google Drive/Coding/adventofcode/2018/input/day6.txt\"\n",
    "\n",
    "with open(input_file) as file:\n",
    "    input_values = [line.strip('\\n') for line in file.readlines()]"
   ]
  },
  {
   "cell_type": "code",
   "execution_count": 10,
   "metadata": {
    "colab": {},
    "colab_type": "code",
    "id": "IXYzMnz2mQTS"
   },
   "outputs": [],
   "source": [
    "locs = [line for line in input_values]"
   ]
  },
  {
   "cell_type": "code",
   "execution_count": 11,
   "metadata": {
    "colab": {
     "base_uri": "https://localhost:8080/",
     "height": 6545
    },
    "colab_type": "code",
    "executionInfo": {
     "elapsed": 373,
     "status": "ok",
     "timestamp": 1545359774436,
     "user": {
      "displayName": "Xander M",
      "photoUrl": "https://lh5.googleusercontent.com/-ckC2TCe7Fc0/AAAAAAAAAAI/AAAAAAAAXMM/69CEJHJlvs0/s64/photo.jpg",
      "userId": "02243051538632680352"
     },
     "user_tz": 300
    },
    "id": "s7uQ9wTjm2dT",
    "outputId": "77d0b45c-784d-4404-aad4-b743d5402663"
   },
   "outputs": [
    {
     "data": {
      "text/plain": [
       "['154, 159',\n",
       " '172, 84',\n",
       " '235, 204',\n",
       " '181, 122',\n",
       " '161, 337',\n",
       " '305, 104',\n",
       " '128, 298',\n",
       " '176, 328',\n",
       " '146, 71',\n",
       " '210, 87',\n",
       " '341, 195',\n",
       " '50, 96',\n",
       " '225, 151',\n",
       " '86, 171',\n",
       " '239, 68',\n",
       " '79, 50',\n",
       " '191, 284',\n",
       " '200, 122',\n",
       " '282, 240',\n",
       " '224, 282',\n",
       " '327, 74',\n",
       " '158, 289',\n",
       " '331, 244',\n",
       " '154, 327',\n",
       " '317, 110',\n",
       " '272, 179',\n",
       " '173, 175',\n",
       " '187, 104',\n",
       " '44, 194',\n",
       " '202, 332',\n",
       " '249, 197',\n",
       " '244, 225',\n",
       " '52, 127',\n",
       " '299, 198',\n",
       " '123, 198',\n",
       " '349, 75',\n",
       " '233, 72',\n",
       " '284, 130',\n",
       " '119, 150',\n",
       " '172, 355',\n",
       " '147, 314',\n",
       " '58, 335',\n",
       " '341, 348',\n",
       " '236, 115',\n",
       " '185, 270',\n",
       " '173, 145',\n",
       " '46, 288',\n",
       " '214, 127',\n",
       " '158, 293',\n",
       " '237, 311']"
      ]
     },
     "execution_count": 11,
     "metadata": {},
     "output_type": "execute_result"
    }
   ],
   "source": [
    "locs"
   ]
  },
  {
   "cell_type": "code",
   "execution_count": 0,
   "metadata": {
    "colab": {},
    "colab_type": "code",
    "id": "PL02xnl0m3ol"
   },
   "outputs": [],
   "source": []
  }
 ],
 "metadata": {
  "colab": {
   "collapsed_sections": [],
   "name": "Day6",
   "provenance": [],
   "version": "0.3.2"
  },
  "kernelspec": {
   "display_name": "Python 3",
   "language": "python",
   "name": "python3"
  },
  "language_info": {
   "codemirror_mode": {
    "name": "ipython",
    "version": 3
   },
   "file_extension": ".py",
   "mimetype": "text/x-python",
   "name": "python",
   "nbconvert_exporter": "python",
   "pygments_lexer": "ipython3",
   "version": "3.7.1"
  }
 },
 "nbformat": 4,
 "nbformat_minor": 1
}
